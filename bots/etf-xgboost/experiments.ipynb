{
 "cells": [
  {
   "cell_type": "code",
   "execution_count": 60,
   "metadata": {},
   "outputs": [
    {
     "name": "stdout",
     "output_type": "stream",
     "text": [
      "[*********************100%***********************]  1 of 1 completed\n"
     ]
    },
    {
     "data": {
      "text/html": [
       "<div>\n",
       "<style scoped>\n",
       "    .dataframe tbody tr th:only-of-type {\n",
       "        vertical-align: middle;\n",
       "    }\n",
       "\n",
       "    .dataframe tbody tr th {\n",
       "        vertical-align: top;\n",
       "    }\n",
       "\n",
       "    .dataframe thead th {\n",
       "        text-align: right;\n",
       "    }\n",
       "</style>\n",
       "<table border=\"1\" class=\"dataframe\">\n",
       "  <thead>\n",
       "    <tr style=\"text-align: right;\">\n",
       "      <th></th>\n",
       "      <th>Open</th>\n",
       "      <th>High</th>\n",
       "      <th>Low</th>\n",
       "      <th>Close</th>\n",
       "      <th>Adj Close</th>\n",
       "      <th>Volume</th>\n",
       "    </tr>\n",
       "    <tr>\n",
       "      <th>Datetime</th>\n",
       "      <th></th>\n",
       "      <th></th>\n",
       "      <th></th>\n",
       "      <th></th>\n",
       "      <th></th>\n",
       "      <th></th>\n",
       "    </tr>\n",
       "  </thead>\n",
       "  <tbody>\n",
       "    <tr>\n",
       "      <th>2019-06-19 09:30:00-04:00</th>\n",
       "      <td>7968.989746</td>\n",
       "      <td>7972.965332</td>\n",
       "      <td>7936.630371</td>\n",
       "      <td>7944.499512</td>\n",
       "      <td>7944.499512</td>\n",
       "      <td>0</td>\n",
       "    </tr>\n",
       "    <tr>\n",
       "      <th>2019-06-19 10:30:00-04:00</th>\n",
       "      <td>7945.280762</td>\n",
       "      <td>7957.340820</td>\n",
       "      <td>7941.850586</td>\n",
       "      <td>7957.340820</td>\n",
       "      <td>7957.340820</td>\n",
       "      <td>215040340</td>\n",
       "    </tr>\n",
       "    <tr>\n",
       "      <th>2019-06-19 11:30:00-04:00</th>\n",
       "      <td>7957.527344</td>\n",
       "      <td>7959.328125</td>\n",
       "      <td>7949.914551</td>\n",
       "      <td>7953.916016</td>\n",
       "      <td>7953.916016</td>\n",
       "      <td>0</td>\n",
       "    </tr>\n",
       "    <tr>\n",
       "      <th>2019-06-19 12:30:00-04:00</th>\n",
       "      <td>7952.694336</td>\n",
       "      <td>7952.819336</td>\n",
       "      <td>7938.839844</td>\n",
       "      <td>7944.821289</td>\n",
       "      <td>7944.821289</td>\n",
       "      <td>935402493</td>\n",
       "    </tr>\n",
       "    <tr>\n",
       "      <th>2019-06-19 13:30:00-04:00</th>\n",
       "      <td>7944.831055</td>\n",
       "      <td>7995.502930</td>\n",
       "      <td>7930.381836</td>\n",
       "      <td>7957.520508</td>\n",
       "      <td>7957.520508</td>\n",
       "      <td>216550939</td>\n",
       "    </tr>\n",
       "  </tbody>\n",
       "</table>\n",
       "</div>"
      ],
      "text/plain": [
       "                                  Open         High          Low        Close  \\\n",
       "Datetime                                                                        \n",
       "2019-06-19 09:30:00-04:00  7968.989746  7972.965332  7936.630371  7944.499512   \n",
       "2019-06-19 10:30:00-04:00  7945.280762  7957.340820  7941.850586  7957.340820   \n",
       "2019-06-19 11:30:00-04:00  7957.527344  7959.328125  7949.914551  7953.916016   \n",
       "2019-06-19 12:30:00-04:00  7952.694336  7952.819336  7938.839844  7944.821289   \n",
       "2019-06-19 13:30:00-04:00  7944.831055  7995.502930  7930.381836  7957.520508   \n",
       "\n",
       "                             Adj Close     Volume  \n",
       "Datetime                                           \n",
       "2019-06-19 09:30:00-04:00  7944.499512          0  \n",
       "2019-06-19 10:30:00-04:00  7957.340820  215040340  \n",
       "2019-06-19 11:30:00-04:00  7953.916016          0  \n",
       "2019-06-19 12:30:00-04:00  7944.821289  935402493  \n",
       "2019-06-19 13:30:00-04:00  7957.520508  216550939  "
      ]
     },
     "execution_count": 60,
     "metadata": {},
     "output_type": "execute_result"
    }
   ],
   "source": [
    "import yfinance as yf\n",
    "import pandas as pd\n",
    "from scipy.signal import argrelextrema\n",
    "import numpy as np\n",
    "\n",
    "# nasdaq\n",
    "data = yf.download('^IXIC', period = \"720d\", interval = \"60m\")\n",
    "data.head()"
   ]
  },
  {
   "cell_type": "code",
   "execution_count": 61,
   "metadata": {},
   "outputs": [],
   "source": [
    "def setExtrema(data):\n",
    "    n = 20\n",
    "\n",
    "    data['minextrema'] = data.iloc[argrelextrema(data.Close.values, np.less_equal,\n",
    "                        order=n)[0]]['Close']\n",
    "    data['maxextrema'] = data.iloc[argrelextrema(data.Close.values, np.greater_equal,\n",
    "                            order=n)[0]]['Close']\n",
    "    return data\n",
    "\n",
    "data = setExtrema(data)"
   ]
  },
  {
   "cell_type": "code",
   "execution_count": 62,
   "metadata": {},
   "outputs": [
    {
     "data": {
      "text/plain": [
       "[<matplotlib.lines.Line2D at 0x7f7b839f7640>]"
      ]
     },
     "execution_count": 62,
     "metadata": {},
     "output_type": "execute_result"
    },
    {
     "data": {
      "image/png": "[encoded data removed]",
      "text/plain": [
       "<Figure size 432x288 with 1 Axes>"
      ]
     },
     "metadata": {
      "needs_background": "light"
     },
     "output_type": "display_data"
    }
   ],
   "source": [
    "import matplotlib.pyplot as plt\n",
    "\n",
    "plt.plot(data.Close)\n",
    "plt.plot(data.minextrema, 'ro')\n",
    "plt.plot(data.maxextrema, 'go')"
   ]
  },
  {
   "cell_type": "code",
   "execution_count": 63,
   "metadata": {},
   "outputs": [
    {
     "name": "stderr",
     "output_type": "stream",
     "text": [
      "/tmp/ipykernel_6090/2584197674.py:9: SettingWithCopyWarning: \n",
      "A value is trying to be set on a copy of a slice from a DataFrame\n",
      "\n",
      "See the caveats in the documentation: https://pandas.pydata.org/pandas-docs/stable/user_guide/indexing.html#returning-a-view-versus-a-copy\n",
      "  data.signal[i] = last\n",
      "/home/jguese/miniconda3/lib/python3.10/site-packages/ta/trend.py:769: RuntimeWarning: invalid value encountered in double_scalars\n",
      "  dip[idx] = 100 * (self._dip[idx] / value)\n",
      "/home/jguese/miniconda3/lib/python3.10/site-packages/ta/trend.py:774: RuntimeWarning: invalid value encountered in double_scalars\n",
      "  din[idx] = 100 * (self._din[idx] / value)\n",
      "/home/jguese/miniconda3/lib/python3.10/site-packages/ta/trend.py:938: FutureWarning: The default dtype for empty Series will be 'object' instead of 'float64' in a future version. Specify a dtype explicitly to silence this warning.\n",
      "  self._psar_up = pd.Series(index=self._psar.index)\n",
      "/home/jguese/miniconda3/lib/python3.10/site-packages/ta/trend.py:939: FutureWarning: The default dtype for empty Series will be 'object' instead of 'float64' in a future version. Specify a dtype explicitly to silence this warning.\n",
      "  self._psar_down = pd.Series(index=self._psar.index)\n"
     ]
    },
    {
     "name": "stdout",
     "output_type": "stream",
     "text": [
      "1    3066\n",
      "0    1957\n",
      "Name: signal, dtype: int64\n"
     ]
    }
   ],
   "source": [
    "# mark signal high or low \n",
    "data['signal'] = None\n",
    "last = None\n",
    "for i in range(len(data)):\n",
    "    if data.minextrema[i] == data.Close[i]:\n",
    "        last = 1\n",
    "    elif data.maxextrema[i] == data.Close[i]:\n",
    "        last = 0 # -1\n",
    "    data.signal[i] = last\n",
    "\n",
    "\n",
    "## add ta signals\n",
    "from ta import add_all_ta_features\n",
    "data = add_all_ta_features(data, open=\"Open\", high=\"High\", low=\"Low\", close=\"Close\", volume=\"Volume\")\n",
    "data[\"signal\"] = data.signal.fillna(method='ffill')\n",
    "data = data.fillna(method='ffill')\n",
    "data.replace(np.inf, 999, inplace=True)\n",
    "data.replace(-np.inf, -999, inplace=True)\n",
    "data = data.fillna(1)\n",
    "print(data.signal.value_counts())"
   ]
  },
  {
   "cell_type": "code",
   "execution_count": 64,
   "metadata": {},
   "outputs": [
    {
     "name": "stdout",
     "output_type": "stream",
     "text": [
      "0.9592039800995025\n"
     ]
    }
   ],
   "source": [
    "# ml start\n",
    "from sklearn.model_selection import train_test_split\n",
    "\n",
    "X = data.drop([\"signal\", \"minextrema\", \"maxextrema\"], axis = 1)\n",
    "Y = data[\"signal\"]\n",
    "\n",
    "x_train, x_test, y_train, y_test = train_test_split(  X, Y, test_size=0.2, shuffle = True)\n",
    "\n",
    "from sklearn.linear_model import SGDClassifier\n",
    "from sklearn.preprocessing import StandardScaler\n",
    "from sklearn.pipeline import make_pipeline\n",
    "from xgboost import XGBClassifier\n",
    "\n",
    "\n",
    "# clf = make_pipeline(StandardScaler(),SGDClassifier())\n",
    "clf = XGBClassifier()\n",
    "clf.fit(x_train, y_train)\n",
    "score = clf.score(x_test, y_test)\n",
    "print(score)\n",
    "# sgdclassifier score 0.68 without ta\n",
    "# with ta 0.82\n",
    "# xgbclassifier 0.96\n",
    "clf.fit(X, Y)\n",
    "prediction = clf.predict(X)\n"
   ]
  },
  {
   "cell_type": "markdown",
   "metadata": {},
   "source": [
    "# backtest best average prediction range"
   ]
  },
  {
   "cell_type": "code",
   "execution_count": 65,
   "metadata": {},
   "outputs": [
    {
     "name": "stdout",
     "output_type": "stream",
     "text": [
      "win is:  176637.96953606434\n",
      "trades stats howmany, mean, median, std:  61 61843.04816209569 47015.91189928691 50376.11500713492\n"
     ]
    }
   ],
   "source": [
    "def oneSim(predlookback = 1):\n",
    "    startmoney = 10000\n",
    "    money = startmoney\n",
    "    nrStocks = 0\n",
    "    trades = []\n",
    "    boughtAt = 0\n",
    "\n",
    "    for i in range(predlookback, len(data)):\n",
    "        pred = np.median(prediction[i-predlookback:i])\n",
    "        crntPrice = data.Close[i]\n",
    "        if pred == 1 and money > 10:\n",
    "            # buy\n",
    "            howmany = money / crntPrice * .95\n",
    "            cost = howmany * crntPrice * (1.00025) # comission\n",
    "            money = money - cost\n",
    "            nrStocks = nrStocks + howmany\n",
    "            boughtAt = cost\n",
    "        elif pred == 0 and nrStocks > 0:\n",
    "            # sell\n",
    "            cost = nrStocks * crntPrice * (0.99975) # comission\n",
    "            money = money + cost\n",
    "            nrStocks = 0\n",
    "            trades.append(cost - boughtAt)\n",
    "    # last day need to sell open positions\n",
    "    if nrStocks >0:\n",
    "        cost = nrStocks * crntPrice * (0.99975) # comission\n",
    "        money = money + cost\n",
    "        nrStocks = 0\n",
    "        trades.append(cost - boughtAt)\n",
    "    return money, trades\n",
    "\n",
    "money, trades = oneSim()\n",
    "print(\"win is: \", money)\n",
    "print(\"trades stats howmany, mean, median, std: \", len(trades), np.mean(trades), np.median(trades), np.std(trades))"
   ]
  },
  {
   "cell_type": "code",
   "execution_count": 68,
   "metadata": {},
   "outputs": [
    {
     "name": "stdout",
     "output_type": "stream",
     "text": [
      "1 win is:  176637.96953606434\n",
      "1 trades stats howmany, mean, median, std:  61 61843.04816209569 47015.91189928691 50376.11500713492\n",
      "3 win is:  133948.90801366302\n",
      "3 trades stats howmany, mean, median, std:  61 51575.920702731186 41286.95554540937 38765.36555656537\n",
      "5 win is:  105200.78806795429\n",
      "5 trades stats howmany, mean, median, std:  61 43817.767883374865 36036.62802492813 30514.141698285952\n",
      "10 win is:  50126.82835838963\n",
      "10 trades stats howmany, mean, median, std:  59 25477.404770486573 21522.774806712823 13438.40587697197\n",
      "15 win is:  33610.23372639824\n",
      "15 trades stats howmany, mean, median, std:  52 20561.457872251838 20219.801398054828 8360.381776495204\n"
     ]
    }
   ],
   "source": [
    "# for i in [1,3,5,10,15]:\n",
    "#     money, trades = oneSim(i)\n",
    "#     print(i, \"win is: \", money)\n",
    "#     print(i, \"trades stats howmany, mean, median, std: \", len(trades), np.mean(trades), np.median(trades), np.std(trades))"
   ]
  },
  {
   "cell_type": "markdown",
   "metadata": {},
   "source": [
    "# just working with the first prediction is best."
   ]
  },
  {
   "cell_type": "code",
   "execution_count": 67,
   "metadata": {},
   "outputs": [
    {
     "name": "stdout",
     "output_type": "stream",
     "text": [
      "win per month:  1054.9749325267628\n",
      "win pct per month:  0.10549749325267628\n"
     ]
    }
   ],
   "source": [
    "# calculate monthly win\n",
    "\n",
    "days = len(data)\n",
    "months = days / 30\n",
    "winPerMonth = money / months\n",
    "winPctMonth = winPerMonth / 10000\n",
    "print(\"win per month: \", winPerMonth)\n",
    "print(\"win pct per month: \", winPctMonth)\n",
    "\n",
    "# daily stuff\n",
    "# win per month:  752.6707763201679\n",
    "# win pct per month:  0.07526707763201679"
   ]
  }
 ],
 "metadata": {
  "interpreter": {
   "hash": "d436247b9f043f8630513ed1454a5d25f3879733eb5c0e6e904c7c35a517ff37"
  },
  "kernelspec": {
   "display_name": "Python 3.10.0 ('base')",
   "language": "python",
   "name": "python3"
  },
  "language_info": {
   "codemirror_mode": {
    "name": "ipython",
    "version": 3
   },
   "file_extension": ".py",
   "mimetype": "text/x-python",
   "name": "python",
   "nbconvert_exporter": "python",
   "pygments_lexer": "ipython3",
   "version": "3.10.4"
  },
  "orig_nbformat": 4
 },
 "nbformat": 4,
 "nbformat_minor": 2
}
