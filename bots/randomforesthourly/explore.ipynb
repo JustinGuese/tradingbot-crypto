{
 "cells": [
  {
   "cell_type": "code",
   "execution_count": 1,
   "metadata": {},
   "outputs": [
    {
     "name": "stdout",
     "output_type": "stream",
     "text": [
      "[*********************100%***********************]  1 of 1 completed\n"
     ]
    },
    {
     "name": "stderr",
     "output_type": "stream",
     "text": [
      "/home/jguese/miniconda3/lib/python3.10/site-packages/ta/trend.py:769: RuntimeWarning: invalid value encountered in double_scalars\n",
      "  dip[idx] = 100 * (self._dip[idx] / value)\n",
      "/home/jguese/miniconda3/lib/python3.10/site-packages/ta/trend.py:774: RuntimeWarning: invalid value encountered in double_scalars\n",
      "  din[idx] = 100 * (self._din[idx] / value)\n",
      "/home/jguese/miniconda3/lib/python3.10/site-packages/ta/trend.py:938: FutureWarning: The default dtype for empty Series will be 'object' instead of 'float64' in a future version. Specify a dtype explicitly to silence this warning.\n",
      "  self._psar_up = pd.Series(index=self._psar.index)\n",
      "/home/jguese/miniconda3/lib/python3.10/site-packages/ta/trend.py:939: FutureWarning: The default dtype for empty Series will be 'object' instead of 'float64' in a future version. Specify a dtype explicitly to silence this warning.\n",
      "  self._psar_down = pd.Series(index=self._psar.index)\n"
     ]
    },
    {
     "name": "stdout",
     "output_type": "stream",
     "text": [
      "with just holding you would have won: 159176.78185670284\n",
      "0.6942795466810577\n"
     ]
    },
    {
     "data": {
      "text/plain": [
       "[Text(0.5225409836065574, 0.9166666666666666, 'X[79] <= -61.997\\ngini = 0.496\\nsamples = 13139\\nvalue = [7125, 6014]'),\n",
       " Text(0.26229508196721313, 0.75, 'X[72] <= 0.162\\ngini = 0.438\\nsamples = 4338\\nvalue = [1404, 2934]'),\n",
       " Text(0.13114754098360656, 0.5833333333333334, 'X[7] <= 1229069615104.0\\ngini = 0.372\\nsamples = 2450\\nvalue = [606, 1844]'),\n",
       " Text(0.06557377049180328, 0.4166666666666667, 'X[52] <= -0.306\\ngini = 0.358\\nsamples = 2346\\nvalue = [547, 1799]'),\n",
       " Text(0.03278688524590164, 0.25, 'X[36] <= 0.675\\ngini = 0.322\\nsamples = 1844\\nvalue = [372, 1472]'),\n",
       " Text(0.01639344262295082, 0.08333333333333333, 'gini = 0.475\\nsamples = 90\\nvalue = [35, 55]'),\n",
       " Text(0.04918032786885246, 0.08333333333333333, 'gini = 0.31\\nsamples = 1754\\nvalue = [337, 1417]'),\n",
       " Text(0.09836065573770492, 0.25, 'X[27] <= 0.013\\ngini = 0.454\\nsamples = 502\\nvalue = [175, 327]'),\n",
       " Text(0.08196721311475409, 0.08333333333333333, 'gini = 0.396\\nsamples = 367\\nvalue = [100, 267]'),\n",
       " Text(0.11475409836065574, 0.08333333333333333, 'gini = 0.494\\nsamples = 135\\nvalue = [75, 60]'),\n",
       " Text(0.19672131147540983, 0.4166666666666667, 'X[7] <= 1345682341888.0\\ngini = 0.491\\nsamples = 104\\nvalue = [59, 45]'),\n",
       " Text(0.16393442622950818, 0.25, 'X[37] <= 2.669\\ngini = 0.393\\nsamples = 78\\nvalue = [57, 21]'),\n",
       " Text(0.14754098360655737, 0.08333333333333333, 'gini = 0.18\\nsamples = 50\\nvalue = [45, 5]'),\n",
       " Text(0.18032786885245902, 0.08333333333333333, 'gini = 0.49\\nsamples = 28\\nvalue = [12, 16]'),\n",
       " Text(0.22950819672131148, 0.25, 'X[16] <= 1785.545\\ngini = 0.142\\nsamples = 26\\nvalue = [2, 24]'),\n",
       " Text(0.21311475409836064, 0.08333333333333333, 'gini = 0.0\\nsamples = 2\\nvalue = [2, 0]'),\n",
       " Text(0.2459016393442623, 0.08333333333333333, 'gini = 0.0\\nsamples = 24\\nvalue = [0, 24]'),\n",
       " Text(0.39344262295081966, 0.5833333333333334, 'X[63] <= 379.337\\ngini = 0.488\\nsamples = 1888\\nvalue = [798, 1090]'),\n",
       " Text(0.32786885245901637, 0.4166666666666667, 'X[66] <= -70.0\\ngini = 0.488\\nsamples = 380\\nvalue = [219, 161]'),\n",
       " Text(0.29508196721311475, 0.25, 'X[85] <= -44.451\\ngini = 0.23\\nsamples = 83\\nvalue = [72, 11]'),\n",
       " Text(0.2786885245901639, 0.08333333333333333, 'gini = 0.0\\nsamples = 4\\nvalue = [0, 4]'),\n",
       " Text(0.3114754098360656, 0.08333333333333333, 'gini = 0.162\\nsamples = 79\\nvalue = [72, 7]'),\n",
       " Text(0.36065573770491804, 0.25, 'X[30] <= 348.612\\ngini = 0.5\\nsamples = 297\\nvalue = [147, 150]'),\n",
       " Text(0.3442622950819672, 0.08333333333333333, 'gini = 0.492\\nsamples = 257\\nvalue = [112, 145]'),\n",
       " Text(0.3770491803278688, 0.08333333333333333, 'gini = 0.219\\nsamples = 40\\nvalue = [35, 5]'),\n",
       " Text(0.45901639344262296, 0.4166666666666667, 'X[34] <= 0.215\\ngini = 0.473\\nsamples = 1508\\nvalue = [579, 929]'),\n",
       " Text(0.4262295081967213, 0.25, 'X[9] <= 8443396864.0\\ngini = 0.408\\nsamples = 596\\nvalue = [170, 426]'),\n",
       " Text(0.4098360655737705, 0.08333333333333333, 'gini = 0.393\\nsamples = 574\\nvalue = [154, 420]'),\n",
       " Text(0.4426229508196721, 0.08333333333333333, 'gini = 0.397\\nsamples = 22\\nvalue = [16, 6]'),\n",
       " Text(0.4918032786885246, 0.25, 'X[26] <= 2.419\\ngini = 0.495\\nsamples = 912\\nvalue = [409, 503]'),\n",
       " Text(0.47540983606557374, 0.08333333333333333, 'gini = 0.472\\nsamples = 565\\nvalue = [216, 349]'),\n",
       " Text(0.5081967213114754, 0.08333333333333333, 'gini = 0.494\\nsamples = 347\\nvalue = [193, 154]'),\n",
       " Text(0.7827868852459017, 0.75, 'X[72] <= 0.661\\ngini = 0.455\\nsamples = 8801\\nvalue = [5721, 3080]'),\n",
       " Text(0.6557377049180327, 0.5833333333333334, 'X[15] <= 700.564\\ngini = 0.497\\nsamples = 3804\\nvalue = [2046, 1758]'),\n",
       " Text(0.5901639344262295, 0.4166666666666667, 'X[34] <= 0.745\\ngini = 0.488\\nsamples = 3250\\nvalue = [1875, 1375]'),\n",
       " Text(0.5573770491803278, 0.25, 'X[83] <= 0.084\\ngini = 0.499\\nsamples = 2155\\nvalue = [1122, 1033]'),\n",
       " Text(0.5409836065573771, 0.08333333333333333, 'gini = 0.455\\nsamples = 678\\nvalue = [441, 237]'),\n",
       " Text(0.5737704918032787, 0.08333333333333333, 'gini = 0.497\\nsamples = 1477\\nvalue = [681, 796]'),\n",
       " Text(0.6229508196721312, 0.25, 'X[35] <= 49.947\\ngini = 0.43\\nsamples = 1095\\nvalue = [753, 342]'),\n",
       " Text(0.6065573770491803, 0.08333333333333333, 'gini = 0.41\\nsamples = 1030\\nvalue = [734, 296]'),\n",
       " Text(0.639344262295082, 0.08333333333333333, 'gini = 0.414\\nsamples = 65\\nvalue = [19, 46]'),\n",
       " Text(0.7213114754098361, 0.4166666666666667, 'X[15] <= 963.875\\ngini = 0.427\\nsamples = 554\\nvalue = [171, 383]'),\n",
       " Text(0.6885245901639344, 0.25, 'X[63] <= 235.969\\ngini = 0.383\\nsamples = 511\\nvalue = [132, 379]'),\n",
       " Text(0.6721311475409836, 0.08333333333333333, 'gini = 0.47\\nsamples = 286\\nvalue = [108, 178]'),\n",
       " Text(0.7049180327868853, 0.08333333333333333, 'gini = 0.191\\nsamples = 225\\nvalue = [24, 201]'),\n",
       " Text(0.7540983606557377, 0.25, 'X[89] <= -0.674\\ngini = 0.169\\nsamples = 43\\nvalue = [39, 4]'),\n",
       " Text(0.7377049180327869, 0.08333333333333333, 'gini = 0.0\\nsamples = 2\\nvalue = [0, 2]'),\n",
       " Text(0.7704918032786885, 0.08333333333333333, 'gini = 0.093\\nsamples = 41\\nvalue = [39, 2]'),\n",
       " Text(0.9098360655737705, 0.5833333333333334, 'X[84] <= 0.034\\ngini = 0.389\\nsamples = 4997\\nvalue = [3675, 1322]'),\n",
       " Text(0.8524590163934426, 0.4166666666666667, 'X[58] <= 20.199\\ngini = 0.477\\nsamples = 897\\nvalue = [545, 352]'),\n",
       " Text(0.819672131147541, 0.25, 'X[50] <= 0.347\\ngini = 0.5\\nsamples = 368\\nvalue = [181, 187]'),\n",
       " Text(0.8032786885245902, 0.08333333333333333, 'gini = 0.475\\nsamples = 191\\nvalue = [117, 74]'),\n",
       " Text(0.8360655737704918, 0.08333333333333333, 'gini = 0.462\\nsamples = 177\\nvalue = [64, 113]'),\n",
       " Text(0.8852459016393442, 0.25, 'X[18] <= 2084.766\\ngini = 0.429\\nsamples = 529\\nvalue = [364, 165]'),\n",
       " Text(0.8688524590163934, 0.08333333333333333, 'gini = 0.339\\nsamples = 268\\nvalue = [210, 58]'),\n",
       " Text(0.9016393442622951, 0.08333333333333333, 'gini = 0.484\\nsamples = 261\\nvalue = [154, 107]'),\n",
       " Text(0.9672131147540983, 0.4166666666666667, 'X[6] <= 3926872948736.0\\ngini = 0.361\\nsamples = 4100\\nvalue = [3130, 970]'),\n",
       " Text(0.9508196721311475, 0.25, 'X[26] <= 2.022\\ngini = 0.357\\nsamples = 4079\\nvalue = [3130, 949]'),\n",
       " Text(0.9344262295081968, 0.08333333333333333, 'gini = 0.4\\nsamples = 2191\\nvalue = [1585, 606]'),\n",
       " Text(0.9672131147540983, 0.08333333333333333, 'gini = 0.297\\nsamples = 1888\\nvalue = [1545, 343]'),\n",
       " Text(0.9836065573770492, 0.25, 'gini = 0.0\\nsamples = 21\\nvalue = [0, 21]')]"
      ]
     },
     "execution_count": 1,
     "metadata": {},
     "output_type": "execute_result"
    },
    {
     "data": {
      "image/png": "[encoded data removed]",
      "text/plain": [
       "<Figure size 432x288 with 1 Axes>"
      ]
     },
     "metadata": {
      "needs_background": "light"
     },
     "output_type": "display_data"
    }
   ],
   "source": [
    "import yfinance as yf\n",
    "import numpy as np\n",
    "from ta import add_all_ta_features\n",
    "from scipy.signal import argrelextrema\n",
    "\n",
    "data = yf.download(\"ETH-USD\", period = \"720d\", interval = \"1h\")\n",
    "data = add_all_ta_features(data, open = \"Open\", high = \"High\", low = \"Low\", close = \"Close\", volume = \"Volume\")\n",
    "data = data.fillna(0)\n",
    "\n",
    "justholdWin = (10000 / data.iloc[0][\"Open\"]) * data.iloc[-1][\"Close\"]\n",
    "print(\"with just holding you would have won: \" + str(justholdWin))\n",
    "\n",
    "# label data with min max stuff\n",
    "\n",
    "def setExtrema(data):\n",
    "    n = 20\n",
    "\n",
    "    minextremai = argrelextrema(data.Close.values, np.less_equal,\n",
    "                        order=n)[0]\n",
    "    maxextremai = argrelextrema(data.Close.values, np.greater_equal,\n",
    "                            order=n)[0]\n",
    "    return minextremai, maxextremai\n",
    "\n",
    "minextremai, maxextremai = setExtrema(data)\n",
    "# which starts?\n",
    "targets = []\n",
    "crnt = 1\n",
    "for i in range(len(data)):\n",
    "    if i in minextremai:\n",
    "        crnt = -1\n",
    "    elif i in maxextremai:\n",
    "        crnt = 1\n",
    "    targets.append(crnt)\n",
    "data[\"target\"] = targets\n",
    "\n",
    "# \n",
    "from sklearn.preprocessing import MinMaxScaler\n",
    "scaler = MinMaxScaler()\n",
    "data = data.fillna(0)\n",
    "# replace np inf with 0\n",
    "data = data.replace([np.inf, -np.inf], 0)\n",
    "Y = data[\"target\"].to_numpy()\n",
    "X = data.drop([\"target\"], axis = 1)\n",
    "data = scaler.fit_transform(data)\n",
    "\n",
    "from sklearn.model_selection import train_test_split\n",
    "x_train, x_test, y_train, y_test = train_test_split(  X, Y, test_size=0.22, shuffle = True)\n",
    "\n",
    "from sklearn.tree import DecisionTreeClassifier\n",
    "clf = DecisionTreeClassifier(max_depth=5)\n",
    "clf.fit(x_train, y_train)\n",
    "score = clf.score(x_test, y_test)\n",
    "print(score)\n",
    "\n",
    "from sklearn import tree\n",
    "tree.plot_tree(clf)"
   ]
  }
 ],
 "metadata": {
  "interpreter": {
   "hash": "d436247b9f043f8630513ed1454a5d25f3879733eb5c0e6e904c7c35a517ff37"
  },
  "kernelspec": {
   "display_name": "Python 3.10.4 ('base')",
   "language": "python",
   "name": "python3"
  },
  "language_info": {
   "codemirror_mode": {
    "name": "ipython",
    "version": 3
   },
   "file_extension": ".py",
   "mimetype": "text/x-python",
   "name": "python",
   "nbconvert_exporter": "python",
   "pygments_lexer": "ipython3",
   "version": "3.10.4"
  },
  "orig_nbformat": 4
 },
 "nbformat": 4,
 "nbformat_minor": 2
}
