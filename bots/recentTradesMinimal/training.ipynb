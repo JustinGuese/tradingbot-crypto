{
 "cells": [
  {
   "cell_type": "code",
   "execution_count": 49,
   "id": "5ccb2b9e",
   "metadata": {},
   "outputs": [],
   "source": [
    "import pandas as pd\n",
    "import numpy as np"
   ]
  },
  {
   "cell_type": "code",
   "execution_count": 50,
   "id": "6d955570",
   "metadata": {},
   "outputs": [
    {
     "data": {
      "text/html": [
       "<div>\n",
       "<style scoped>\n",
       "    .dataframe tbody tr th:only-of-type {\n",
       "        vertical-align: middle;\n",
       "    }\n",
       "\n",
       "    .dataframe tbody tr th {\n",
       "        vertical-align: top;\n",
       "    }\n",
       "\n",
       "    .dataframe thead th {\n",
       "        text-align: right;\n",
       "    }\n",
       "</style>\n",
       "<table border=\"1\" class=\"dataframe\">\n",
       "  <thead>\n",
       "    <tr style=\"text-align: right;\">\n",
       "      <th></th>\n",
       "      <th>id</th>\n",
       "      <th>price</th>\n",
       "      <th>quoteQty</th>\n",
       "      <th>isBestMatch</th>\n",
       "      <th>qty</th>\n",
       "      <th>time</th>\n",
       "      <th>isBuyerMaker</th>\n",
       "    </tr>\n",
       "  </thead>\n",
       "  <tbody>\n",
       "    <tr>\n",
       "      <th>33079</th>\n",
       "      <td>163591857</td>\n",
       "      <td>96.89</td>\n",
       "      <td>60.0718</td>\n",
       "      <td>True</td>\n",
       "      <td>0.62</td>\n",
       "      <td>2022-04-04T07:24:58.226000</td>\n",
       "      <td>False</td>\n",
       "    </tr>\n",
       "    <tr>\n",
       "      <th>33078</th>\n",
       "      <td>163591858</td>\n",
       "      <td>96.89</td>\n",
       "      <td>42.6316</td>\n",
       "      <td>True</td>\n",
       "      <td>0.44</td>\n",
       "      <td>2022-04-04T07:25:01.652000</td>\n",
       "      <td>True</td>\n",
       "    </tr>\n",
       "    <tr>\n",
       "      <th>33077</th>\n",
       "      <td>163591859</td>\n",
       "      <td>96.90</td>\n",
       "      <td>775.2000</td>\n",
       "      <td>True</td>\n",
       "      <td>8.00</td>\n",
       "      <td>2022-04-04T07:25:01.668000</td>\n",
       "      <td>False</td>\n",
       "    </tr>\n",
       "    <tr>\n",
       "      <th>33076</th>\n",
       "      <td>163591860</td>\n",
       "      <td>96.91</td>\n",
       "      <td>95.9409</td>\n",
       "      <td>True</td>\n",
       "      <td>0.99</td>\n",
       "      <td>2022-04-04T07:25:02.389000</td>\n",
       "      <td>False</td>\n",
       "    </tr>\n",
       "    <tr>\n",
       "      <th>33075</th>\n",
       "      <td>163591861</td>\n",
       "      <td>96.91</td>\n",
       "      <td>14.5365</td>\n",
       "      <td>True</td>\n",
       "      <td>0.15</td>\n",
       "      <td>2022-04-04T07:25:02.838000</td>\n",
       "      <td>False</td>\n",
       "    </tr>\n",
       "  </tbody>\n",
       "</table>\n",
       "</div>"
      ],
      "text/plain": [
       "              id  price  quoteQty  isBestMatch   qty  \\\n",
       "33079  163591857  96.89   60.0718         True  0.62   \n",
       "33078  163591858  96.89   42.6316         True  0.44   \n",
       "33077  163591859  96.90  775.2000         True  8.00   \n",
       "33076  163591860  96.91   95.9409         True  0.99   \n",
       "33075  163591861  96.91   14.5365         True  0.15   \n",
       "\n",
       "                             time  isBuyerMaker  \n",
       "33079  2022-04-04T07:24:58.226000         False  \n",
       "33078  2022-04-04T07:25:01.652000          True  \n",
       "33077  2022-04-04T07:25:01.668000         False  \n",
       "33076  2022-04-04T07:25:02.389000         False  \n",
       "33075  2022-04-04T07:25:02.838000         False  "
      ]
     },
     "execution_count": 50,
     "metadata": {},
     "output_type": "execute_result"
    }
   ],
   "source": [
    "df = pd.read_csv(\"avaxdata.csv\")\n",
    "df = df.drop([\"Unnamed: 0\", \"symbol\"], axis=1)\n",
    "df = df.iloc[::-1]\n",
    "df.head()"
   ]
  },
  {
   "cell_type": "code",
   "execution_count": 51,
   "id": "111c6945",
   "metadata": {},
   "outputs": [
    {
     "name": "stdout",
     "output_type": "stream",
     "text": [
      "we are looking at a timewindow of hours:  5.944690277777777\n"
     ]
    }
   ],
   "source": [
    "df['price_SMA5'] = df[\"price\"].rolling(5).mean()\n",
    "df['price_SMA10'] = df[\"price\"].rolling(10).mean()\n",
    "df['qty_SMA5'] = df[\"qty\"].rolling(5).mean()\n",
    "df['qty_SMA10'] = df[\"qty\"].rolling(10).mean()\n",
    "\n",
    "df[\"pricechange\"] = df[\"price\"].pct_change()\n",
    "df[\"quantitychange\"] = df[\"qty\"].pct_change()\n",
    "df[\"targetshift\"] = df[\"pricechange\"].shift(-5) # maybe it has an effect later\n",
    "df[\"target\"] = np.sign(df[\"targetshift\"])\n",
    "df[\"time\"] = pd.to_datetime(df[\"time\"])\n",
    "df.tail()\n",
    "\n",
    "timeframeofwindow = (df.iloc[-1][\"time\"] - df.iloc[0][\"time\"]).total_seconds() / 60 / 60\n",
    "print(\"we are looking at a timewindow of hours: \", timeframeofwindow)"
   ]
  },
  {
   "cell_type": "code",
   "execution_count": null,
   "id": "310ef80f",
   "metadata": {},
   "outputs": [],
   "source": []
  },
  {
   "cell_type": "code",
   "execution_count": 52,
   "id": "b13f9761",
   "metadata": {},
   "outputs": [
    {
     "data": {
      "text/plain": [
       "id               -0.005303\n",
       "price             0.004375\n",
       "quoteQty          0.003809\n",
       "isBestMatch            NaN\n",
       "qty               0.003844\n",
       "isBuyerMaker     -0.086890\n",
       "price_SMA5        0.003888\n",
       "price_SMA10       0.003358\n",
       "qty_SMA5          0.000898\n",
       "qty_SMA10        -0.000153\n",
       "pricechange       0.021191\n",
       "quantitychange   -0.007166\n",
       "targetshift       0.649543\n",
       "target            1.000000\n",
       "Name: target, dtype: float64"
      ]
     },
     "execution_count": 52,
     "metadata": {},
     "output_type": "execute_result"
    }
   ],
   "source": [
    "df.corr()[\"target\"]"
   ]
  },
  {
   "cell_type": "code",
   "execution_count": 53,
   "id": "6815386b",
   "metadata": {},
   "outputs": [],
   "source": [
    "df = df.fillna(0)\n",
    "# X = df.to_numpy()\n",
    "df.replace(np.inf, 999, inplace=True)\n",
    "df.replace(-np.inf, -999, inplace=True)\n",
    "\n",
    "y = df[\"target\"]\n",
    "df.drop([\"target\", \"time\"], inplace = True, axis = 1)"
   ]
  },
  {
   "cell_type": "code",
   "execution_count": 54,
   "id": "ac8a5ab1",
   "metadata": {},
   "outputs": [],
   "source": [
    "from sklearn.model_selection import train_test_split\n",
    "\n",
    "x_train, x_test, y_train, y_test = train_test_split(df, y, test_size=0.2, shuffle=True)"
   ]
  },
  {
   "cell_type": "code",
   "execution_count": 55,
   "id": "b429efe6",
   "metadata": {},
   "outputs": [
    {
     "name": "stdout",
     "output_type": "stream",
     "text": [
      "score is:  0.9992442563482467\n",
      "for last one i predict:  [0.]\n"
     ]
    },
    {
     "name": "stderr",
     "output_type": "stream",
     "text": [
      "/home/jguese/miniconda3/lib/python3.10/site-packages/sklearn/base.py:450: UserWarning: X does not have valid feature names, but StandardScaler was fitted with feature names\n",
      "  warnings.warn(\n"
     ]
    }
   ],
   "source": [
    "from sklearn.linear_model import SGDClassifier\n",
    "from sklearn.pipeline import make_pipeline\n",
    "from sklearn.preprocessing import StandardScaler\n",
    "\n",
    "reg = make_pipeline(StandardScaler(),SGDClassifier())\n",
    "# reg = SGDClassifier()\n",
    "reg.fit(x_train, y_train)\n",
    "\n",
    "score = reg.score(x_test, y_test)\n",
    "print(\"score is: \", score)\n",
    "\n",
    "predlast = reg.predict(df.iloc[-1].to_numpy().reshape(1, -1))\n",
    "\n",
    "print(\"for last one i predict: \", predlast)"
   ]
  },
  {
   "cell_type": "code",
   "execution_count": 56,
   "id": "b3bf308d",
   "metadata": {},
   "outputs": [
    {
     "data": {
      "text/plain": [
       "(array([-1.,  0.,  1.]), array([ 4660, 23821,  4599]))"
      ]
     },
     "execution_count": 56,
     "metadata": {},
     "output_type": "execute_result"
    }
   ],
   "source": [
    "# train it on all\n",
    "reg.fit(df, y)\n",
    "\n",
    "predictions = reg.predict(df)\n",
    "np.unique(predictions, return_counts = True)"
   ]
  },
  {
   "cell_type": "code",
   "execution_count": 57,
   "id": "f96a2333",
   "metadata": {},
   "outputs": [],
   "source": [
    "def oneSim(combtup):\n",
    "    lookbackpred, minhold = combtup\n",
    "    money = 10000\n",
    "    stocks = 0\n",
    "    holdingfor = 0\n",
    "\n",
    "    for i in range(lookbackpred, len(df)):\n",
    "        if money <= 10 and stocks == 0:\n",
    "            # we can skip\n",
    "#             break\n",
    "            # game over du spasst\n",
    "            return lookbackpred, minhold, money\n",
    "        crntPrice = df.iloc[i][\"price\"]\n",
    "        crntPred = np.median(predictions[i-lookbackpred : i])\n",
    "        if crntPred == 1 and money > 10 and stocks == 0:\n",
    "            # buy\n",
    "            amount = money / crntPrice * .95\n",
    "            cost = amount * crntPrice * (1.00025) # commission\n",
    "            money -= cost\n",
    "            stocks = amount\n",
    "            holdingfor = 0\n",
    "        elif crntPred == -1 and stocks > 0 and holdingfor > minhold:\n",
    "            win = amount * crntPrice * (1 - 0.00025)\n",
    "            money += win\n",
    "            stocks = 0\n",
    "        holdingfor += 1\n",
    "    # last day sell if own stocks\n",
    "    if stocks > 0:\n",
    "        win = amount * crntPrice * (1 - 0.00025)\n",
    "        money += win\n",
    "        stocks = 0\n",
    "\n",
    "#     print(\"i have earned: \", money)\n",
    "    return lookbackpred, minhold, money\n",
    "\n"
   ]
  },
  {
   "cell_type": "code",
   "execution_count": 58,
   "id": "b8b484d7",
   "metadata": {},
   "outputs": [
    {
     "name": "stderr",
     "output_type": "stream",
     "text": [
      "100%|█████████████████████████████████████████████████████████████████| 7/7 [00:00<00:00, 32513.98it/s]"
     ]
    },
    {
     "name": "stdout",
     "output_type": "stream",
     "text": [
      "trying out 49 combinations\n"
     ]
    },
    {
     "name": "stderr",
     "output_type": "stream",
     "text": [
      "\n"
     ]
    },
    {
     "name": "stdout",
     "output_type": "stream",
     "text": [
      "[(1, 1, 5349.243300127558), (1, 5, 6395.568652707036), (1, 10, 6880.054690999394), (1, 50, 8530.226948628391), (1, 100, 9060.386140130111), (1, 2, 5646.5602934210265), (1, 254, 9487.011653197302), (5, 1, 10181.762732993806), (5, 5, 10173.992179603274), (5, 10, 10166.370434007613), (5, 50, 10069.931725310767), (5, 100, 10042.229927664386), (5, 71, 10042.80870768078), (5, 95, 10034.638953727284), (10, 1, 9983.840373240762), (10, 5, 9983.840373240762), (10, 10, 9976.999812359765), (10, 50, 9819.464764267817), (10, 100, 9746.113137901599), (10, 77, 9808.721267565192), (10, 74, 9808.721267565192), (50, 1, 10000), (50, 5, 10000), (50, 10, 10000), (50, 50, 10000), (50, 100, 10000), (50, 231, 10000), (50, 63, 10000), (100, 1, 10000), (100, 5, 10000), (100, 10, 10000), (100, 50, 10000), (100, 100, 10000), (100, 81, 10000), (100, 33, 10000), (181, 1, 10000), (181, 5, 10000), (181, 10, 10000), (181, 50, 10000), (181, 100, 10000), (181, 238, 10000), (181, 91, 10000), (215, 1, 10000), (215, 5, 10000), (215, 10, 10000), (215, 50, 10000), (215, 100, 10000), (215, 51, 10000), (215, 157, 10000)]\n"
     ]
    }
   ],
   "source": [
    "from tqdm import tqdm\n",
    "from multiprocessing import Pool\n",
    "\n",
    "combinations = []\n",
    "for lookbackpred in tqdm([1, 5, 10, 50, 100, np.random.randint(300), np.random.randint(300)]):\n",
    "    for minhold in [1, 5, 10, 50, 100, np.random.randint(300), np.random.randint(300)]:\n",
    "            combinations.append((lookbackpred, minhold))\n",
    "print(\"trying out %d combinations\" % len(combinations))\n",
    "pool = Pool()\n",
    "result = pool.map_async(oneSim, combinations)\n",
    "result = result.get()\n",
    "# money = oneSim(lookbackpred, minhold)\n",
    "# print(lookbackpred, minhold,  money)\n",
    "print(result)"
   ]
  },
  {
   "cell_type": "code",
   "execution_count": 59,
   "id": "4e5c2a79",
   "metadata": {},
   "outputs": [
    {
     "data": {
      "text/html": [
       "<div>\n",
       "<style scoped>\n",
       "    .dataframe tbody tr th:only-of-type {\n",
       "        vertical-align: middle;\n",
       "    }\n",
       "\n",
       "    .dataframe tbody tr th {\n",
       "        vertical-align: top;\n",
       "    }\n",
       "\n",
       "    .dataframe thead th {\n",
       "        text-align: right;\n",
       "    }\n",
       "</style>\n",
       "<table border=\"1\" class=\"dataframe\">\n",
       "  <thead>\n",
       "    <tr style=\"text-align: right;\">\n",
       "      <th></th>\n",
       "      <th>lookback</th>\n",
       "      <th>minhold</th>\n",
       "      <th>win</th>\n",
       "    </tr>\n",
       "  </thead>\n",
       "  <tbody>\n",
       "    <tr>\n",
       "      <th>7</th>\n",
       "      <td>5</td>\n",
       "      <td>1</td>\n",
       "      <td>10181.762733</td>\n",
       "    </tr>\n",
       "    <tr>\n",
       "      <th>8</th>\n",
       "      <td>5</td>\n",
       "      <td>5</td>\n",
       "      <td>10173.992180</td>\n",
       "    </tr>\n",
       "    <tr>\n",
       "      <th>9</th>\n",
       "      <td>5</td>\n",
       "      <td>10</td>\n",
       "      <td>10166.370434</td>\n",
       "    </tr>\n",
       "    <tr>\n",
       "      <th>10</th>\n",
       "      <td>5</td>\n",
       "      <td>50</td>\n",
       "      <td>10069.931725</td>\n",
       "    </tr>\n",
       "    <tr>\n",
       "      <th>12</th>\n",
       "      <td>5</td>\n",
       "      <td>71</td>\n",
       "      <td>10042.808708</td>\n",
       "    </tr>\n",
       "    <tr>\n",
       "      <th>11</th>\n",
       "      <td>5</td>\n",
       "      <td>100</td>\n",
       "      <td>10042.229928</td>\n",
       "    </tr>\n",
       "    <tr>\n",
       "      <th>13</th>\n",
       "      <td>5</td>\n",
       "      <td>95</td>\n",
       "      <td>10034.638954</td>\n",
       "    </tr>\n",
       "    <tr>\n",
       "      <th>36</th>\n",
       "      <td>181</td>\n",
       "      <td>5</td>\n",
       "      <td>10000.000000</td>\n",
       "    </tr>\n",
       "    <tr>\n",
       "      <th>35</th>\n",
       "      <td>181</td>\n",
       "      <td>1</td>\n",
       "      <td>10000.000000</td>\n",
       "    </tr>\n",
       "    <tr>\n",
       "      <th>24</th>\n",
       "      <td>50</td>\n",
       "      <td>50</td>\n",
       "      <td>10000.000000</td>\n",
       "    </tr>\n",
       "    <tr>\n",
       "      <th>38</th>\n",
       "      <td>181</td>\n",
       "      <td>50</td>\n",
       "      <td>10000.000000</td>\n",
       "    </tr>\n",
       "    <tr>\n",
       "      <th>34</th>\n",
       "      <td>100</td>\n",
       "      <td>33</td>\n",
       "      <td>10000.000000</td>\n",
       "    </tr>\n",
       "    <tr>\n",
       "      <th>33</th>\n",
       "      <td>100</td>\n",
       "      <td>81</td>\n",
       "      <td>10000.000000</td>\n",
       "    </tr>\n",
       "    <tr>\n",
       "      <th>32</th>\n",
       "      <td>100</td>\n",
       "      <td>100</td>\n",
       "      <td>10000.000000</td>\n",
       "    </tr>\n",
       "    <tr>\n",
       "      <th>31</th>\n",
       "      <td>100</td>\n",
       "      <td>50</td>\n",
       "      <td>10000.000000</td>\n",
       "    </tr>\n",
       "    <tr>\n",
       "      <th>30</th>\n",
       "      <td>100</td>\n",
       "      <td>10</td>\n",
       "      <td>10000.000000</td>\n",
       "    </tr>\n",
       "    <tr>\n",
       "      <th>37</th>\n",
       "      <td>181</td>\n",
       "      <td>10</td>\n",
       "      <td>10000.000000</td>\n",
       "    </tr>\n",
       "    <tr>\n",
       "      <th>42</th>\n",
       "      <td>215</td>\n",
       "      <td>1</td>\n",
       "      <td>10000.000000</td>\n",
       "    </tr>\n",
       "    <tr>\n",
       "      <th>39</th>\n",
       "      <td>181</td>\n",
       "      <td>100</td>\n",
       "      <td>10000.000000</td>\n",
       "    </tr>\n",
       "    <tr>\n",
       "      <th>40</th>\n",
       "      <td>181</td>\n",
       "      <td>238</td>\n",
       "      <td>10000.000000</td>\n",
       "    </tr>\n",
       "  </tbody>\n",
       "</table>\n",
       "</div>"
      ],
      "text/plain": [
       "    lookback  minhold           win\n",
       "7          5        1  10181.762733\n",
       "8          5        5  10173.992180\n",
       "9          5       10  10166.370434\n",
       "10         5       50  10069.931725\n",
       "12         5       71  10042.808708\n",
       "11         5      100  10042.229928\n",
       "13         5       95  10034.638954\n",
       "36       181        5  10000.000000\n",
       "35       181        1  10000.000000\n",
       "24        50       50  10000.000000\n",
       "38       181       50  10000.000000\n",
       "34       100       33  10000.000000\n",
       "33       100       81  10000.000000\n",
       "32       100      100  10000.000000\n",
       "31       100       50  10000.000000\n",
       "30       100       10  10000.000000\n",
       "37       181       10  10000.000000\n",
       "42       215        1  10000.000000\n",
       "39       181      100  10000.000000\n",
       "40       181      238  10000.000000"
      ]
     },
     "execution_count": 59,
     "metadata": {},
     "output_type": "execute_result"
    }
   ],
   "source": [
    "results = pd.DataFrame(result, columns=[\"lookback\", \"minhold\", \"win\"]).sort_values(\"win\", ascending = False)\n",
    "results.head(20)"
   ]
  },
  {
   "cell_type": "code",
   "execution_count": 60,
   "id": "1a3421b5",
   "metadata": {},
   "outputs": [
    {
     "name": "stdout",
     "output_type": "stream",
     "text": [
      "du spasst hättest 30.58$ pro stunde gemacht oder 0.31 pct\n"
     ]
    }
   ],
   "source": [
    "# calculate win per hour\n",
    "# timeframeofwindow\n",
    "bestwin = results.iloc[0][\"win\"] - 10000\n",
    "winPerHour = bestwin / timeframeofwindow\n",
    "winPctPerHour = winPerHour / 10000\n",
    "print(\"du spasst hättest %.2f$ pro stunde gemacht oder %.2f pct\" % (winPerHour, winPctPerHour * 100))"
   ]
  },
  {
   "cell_type": "code",
   "execution_count": 62,
   "id": "bbc99991",
   "metadata": {},
   "outputs": [
    {
     "name": "stdout",
     "output_type": "stream",
     "text": [
      "month 0 has a win of 10030.58$\n",
      "month 1 has a win of 90353.13$\n",
      "month 2 has a win of 813880.33$\n",
      "month 3 has a win of 7331247.79$\n",
      "month 4 has a win of 66038202.82$\n",
      "month 5 has a win of 594857022.33$\n",
      "month 6 has a win of 5358335961.74$\n",
      "month 7 has a win of 48266664427.11$\n",
      "month 8 has a win of 434775070386.23$\n",
      "month 9 has a win of 3916354363264.79$\n",
      "month 10 has a win of 35277624094311.36$\n",
      "month 11 has a win of 317772766788670.75$\n",
      "month 12 has a win of 2862424381034502.5$\n"
     ]
    }
   ],
   "source": [
    "\n",
    "def hochrechnung(startinvest = 10000):\n",
    "    monthly = []\n",
    "    alle = []\n",
    "    # winPctPerHour\n",
    "    money = startinvest\n",
    "    hoursinyear = 8760\n",
    "    for i in range(hoursinyear):\n",
    "        money *= (1 + winPctPerHour)\n",
    "        alle.append(money)\n",
    "        if i % 720 == 0: # every month\n",
    "            monthly.append(money)\n",
    "            print(f'month {int(i / 720)} has a win of {round(money,2)}$')\n",
    "    return monthly, alle \n",
    "monthly, alle  = hochrechnung()"
   ]
  },
  {
   "cell_type": "code",
   "execution_count": 68,
   "id": "43ea58a4",
   "metadata": {},
   "outputs": [],
   "source": [
    "# sabve model pipeline\n",
    "import joblib\n",
    "joblib.dump(reg, \"results/modelavax.pickle\", compress=9)\n",
    "with open(\"results/bestcombination.csv\", \"w\") as file:\n",
    "    file.write(\"lookback,minhold,win\\n\")\n",
    "    file.write(str(results.iloc[0][\"lookback\"]) + \",\"  + str(results.iloc[0][\"minhold\"]) + \",\"  + str(results.iloc[0][\"win\"]))"
   ]
  }
 ],
 "metadata": {
  "kernelspec": {
   "display_name": "Python 3 (ipykernel)",
   "language": "python",
   "name": "python3"
  },
  "language_info": {
   "codemirror_mode": {
    "name": "ipython",
    "version": 3
   },
   "file_extension": ".py",
   "mimetype": "text/x-python",
   "name": "python",
   "nbconvert_exporter": "python",
   "pygments_lexer": "ipython3",
   "version": "3.10.0"
  }
 },
 "nbformat": 4,
 "nbformat_minor": 5
}
